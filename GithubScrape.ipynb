{
  "nbformat": 4,
  "nbformat_minor": 0,
  "metadata": {
    "colab": {
      "name": "Untitled4.ipynb",
      "provenance": [],
      "authorship_tag": "ABX9TyMwGvhZLpLp6iYJnukyMZl3",
      "include_colab_link": true
    },
    "kernelspec": {
      "name": "python3",
      "display_name": "Python 3"
    },
    "language_info": {
      "name": "python"
    }
  },
  "cells": [
    {
      "cell_type": "markdown",
      "metadata": {
        "id": "view-in-github",
        "colab_type": "text"
      },
      "source": [
        "<a href=\"https://colab.research.google.com/github/RohanAwate9020/GitHubScrape/blob/main/GithubScrape.ipynb\" target=\"_parent\"><img src=\"https://colab.research.google.com/assets/colab-badge.svg\" alt=\"Open In Colab\"/></a>"
      ]
    },
    {
      "cell_type": "code",
      "execution_count": 1,
      "metadata": {
        "id": "z8jEVfPnLYzw"
      },
      "outputs": [],
      "source": [
        "import requests\n",
        "from bs4 import BeautifulSoup"
      ]
    },
    {
      "cell_type": "code",
      "source": [
        "url=input(\"Please give url:\")\n",
        "\n",
        "\n",
        "r=requests.get(url)\n",
        "htmlContent=r.content\n",
        "soup=BeautifulSoup(htmlContent, 'html.parser')\n",
        "\n",
        "\n",
        "title= soup.title\n",
        "str1=str(title)\n",
        "str2=str1.replace('<title>','')\n",
        "str3=str2.replace('</title>','')\n",
        "print('\\n\\n\\t\\t\\t',str3[:-8])\n",
        "\n",
        "\n",
        "#Displaying Repository name \n",
        "j=0\n",
        "listrepo=[]\n",
        "print(\"Repositories Available:\")\n",
        "li=soup.findAll('span', class_='repo')\n",
        "for _,i in enumerate(li):\n",
        "   listrepo.append(i.text.strip())\n",
        "   j=j+1\n",
        "   print(j,'.',i.text.strip())\n",
        "\n",
        "print('Number of Repository:',j)\n",
        "i=0\n",
        "k=0\n",
        "\n",
        "for i in range(j):\n",
        "   urlprj=url+'/'+listrepo[i]\n",
        "   #print(urlprj)\n",
        "   print(\"\\nProjects available In\",listrepo[i])\n",
        "   i+=1\n",
        "  \n",
        "   r=requests.get(urlprj)\n",
        "   htmlContent=r.content\n",
        "   soup=BeautifulSoup(htmlContent, 'html.parser')\n",
        "   li=soup.findAll('span', class_='css-truncate css-truncate-target d-block width-fit')\n",
        "   for _,i in enumerate(li):\n",
        "    strprj=i.text.strip()\n",
        "    print(strprj)\n",
        "\n",
        "\n",
        "   li=soup.findAll('a', class_='d-inline-flex flex-items-center flex-nowrap Link--secondary no-underline text-small mr-3')\n",
        "   print(\"\\nLanguages Used in this Repository\")\n",
        "   for _,i in enumerate(li):\n",
        "     strlang=i.text.strip()\n",
        "     print(strlang)\n",
        "     \n",
        "   \n",
        "  \n",
        "\n",
        "\n",
        "\n",
        "\n"
      ],
      "metadata": {
        "colab": {
          "base_uri": "https://localhost:8080/"
        },
        "id": "-beEoEusLc0C",
        "outputId": "45c65aa0-8666-46f9-ff84-69b776e75fa7"
      },
      "execution_count": 2,
      "outputs": [
        {
          "output_type": "stream",
          "name": "stdout",
          "text": [
            "Please give url:https://github.com/RohanAwate9020\n",
            "\n",
            "\n",
            "\t\t\t RohanAwate9020 (Rohan Awate) \n",
            "Repositories Available:\n",
            "1 . Python-practice-program\n",
            "2 . Python_Project_Box_Office_Data_Analytics\n",
            "3 . GitHubScrape\n",
            "Number of Repository: 3\n",
            "\n",
            "Projects available In Python-practice-program\n",
            "Activity1Numpy.ipynb\n",
            "Activity5Matplotlib.ipynb\n",
            "Activity5Pandas.ipynb\n",
            "Activity5Scipy.ipynb\n",
            "Activity5Seaborn.ipynb\n",
            "Activity5_Plotly_lib.ipynb\n",
            "Box_Office_Data_Analytics.ipynb\n",
            "LCS.py\n",
            "Sort.py\n",
            "Student_details.py\n",
            "Task2_Concat2list.py\n",
            "Task2_DisCal.py\n",
            "Task2_LeapYearbetween2years.py\n",
            "Task2_Leapyear.py\n",
            "Task2_Listindex.py\n",
            "Task2_Numcount.py\n",
            "Task2_Palindrom.py\n",
            "Task2_Prime.py\n",
            "Task2_RevNum.py\n",
            "Task2_Table.py\n",
            "Task5_BarChart.ipynb\n",
            "Task5_BoxPlot.ipynb\n",
            "Task5_Time_Series.ipynb\n",
            "cube.py\n",
            "escape_char.py\n",
            "string_palindrome.py\n",
            "swap.py\n",
            "user_choice.py\n",
            "\n",
            "Languages Used in this Repository\n",
            "Jupyter Notebook\n",
            "99.6%\n",
            "Python\n",
            "0.4%\n",
            "\n",
            "Projects available In Python_Project_Box_Office_Data_Analytics\n",
            "Box_Office_Data_Analytics.ipynb\n",
            "box_office.csv\n",
            "\n",
            "Languages Used in this Repository\n",
            "Jupyter Notebook\n",
            "100.0%\n",
            "\n",
            "Projects available In GitHubScrape\n",
            "GithubScrap.py\n",
            "\n",
            "Languages Used in this Repository\n",
            "Python\n",
            "100.0%\n"
          ]
        }
      ]
    }
  ]
}